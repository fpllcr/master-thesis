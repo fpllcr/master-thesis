{
 "cells": [
  {
   "cell_type": "code",
   "execution_count": 1,
   "metadata": {},
   "outputs": [],
   "source": [
    "from datetime import datetime\n",
    "import math\n",
    "import os\n",
    "\n",
    "from matplotlib import pyplot as plt\n",
    "import pandas as pd\n",
    "\n",
    "from qaoa_solver import QAOASolver\n",
    "from utils import *"
   ]
  },
  {
   "cell_type": "code",
   "execution_count": 3,
   "metadata": {},
   "outputs": [
    {
     "name": "stderr",
     "output_type": "stream",
     "text": [
      "100%|██████████| 7/7 [00:00<00:00,  0.06s/exp]\n"
     ]
    }
   ],
   "source": [
    "experiment = \"test_BFGS\"\n",
    "\n",
    "conf = {\n",
    "    \"experiment\": experiment,\n",
    "    \"number\": 15,\n",
    "    \"layers\": 7,\n",
    "    \"problem_hamiltonian\": \"linear_H\", # for system evolution\n",
    "    \"cost_hamiltonian\": \"abs_H\", # for cost evaluation\n",
    "    \"initial_gamma\": math.pi / 3,\n",
    "    \"initial_beta\": math.pi / 3,\n",
    "    \"optimizer\": 'BFGS',\n",
    "    \"verbose\": False\n",
    "}\n",
    "\n",
    "solver = QAOASolver(\n",
    "    N=conf['number'],\n",
    "    layers=conf['layers'],\n",
    "    problem_hamiltonian=conf['problem_hamiltonian'],\n",
    "    cost_hamiltonian=conf['cost_hamiltonian'],\n",
    "    optimizer_method=conf['optimizer']\n",
    ")\n",
    "\n",
    "solver.run(conf)"
   ]
  },
  {
   "cell_type": "code",
   "execution_count": 6,
   "metadata": {},
   "outputs": [],
   "source": [
    "experiment_result_files = os.listdir(f'experiments/results/{experiment}')\n",
    "experiment_results = []\n",
    "\n",
    "for result_file in experiment_result_files:\n",
    "    result_date = datetime.strptime(result_file.split('_')[-1].split('.json')[0], '%Y%m%d%H%M%S%f')\n",
    "    result = pd.read_json(f'experiments/results/{experiment}/{result_file}',lines=True)\n",
    "    experiment_results.append(result)\n",
    "\n",
    "\n",
    "df = pd.concat(experiment_results)\n",
    "df['num_qubits'] = df['nx'] + df['ny']\n",
    "df['problem_hamiltonian'] = df['config'].apply(lambda c: c.get('problem_hamiltonian'))\n",
    "df['cost_hamiltonian'] = df['config'].apply(lambda c: c.get('cost_hamiltonian'))\n",
    "df['gamma_0'] = df['config'].apply(lambda c: c.get('initial_gamma'))\n",
    "df['beta_0'] = df['config'].apply(lambda c: c.get('initial_beta'))\n",
    "df['experiment'] = df['config'].apply(lambda c: c.get('experiment'))\n",
    "df['extended_qaoa'] = df['config'].apply(lambda c: c.get('extended_qaoa', False))\n",
    "df['setup'] = df['experiment'].str.split('_').str[1:].str.join('_')\n",
    "df['state_populations'] = df['state'].apply(lambda s: [abs(complex(c))**2 for c in s])\n",
    "df['solution'] = df.apply(lambda row: compute_solution(row['N']), axis=1)\n",
    "df['fidelity'] = df.apply(lambda row: compute_fidelity(row['state_populations'], row['solution']), axis=1)\n",
    "df['gamma_0'] = df['gamma_0'].round(3)\n",
    "df['beta_0'] = df['beta_0'].round(3)"
   ]
  },
  {
   "cell_type": "code",
   "execution_count": 8,
   "metadata": {},
   "outputs": [
    {
     "data": {
      "image/png": "[encoded data removed]",
      "text/plain": [
       "<Figure size 700x400 with 1 Axes>"
      ]
     },
     "metadata": {},
     "output_type": "display_data"
    }
   ],
   "source": [
    "fig, ax = plt.subplots(1, 1, figsize=(7, 4))\n",
    "\n",
    "setups = sorted(df.setup.unique(), reverse=True)\n",
    "\n",
    "for j, setup in enumerate(setups):\n",
    "    df_j = df[df.setup == setup].copy()\n",
    "    ax.plot('layers', 'cost', data=df_j, marker='.', label=setup)\n",
    "\n",
    "ax.set_ylabel('Cost')\n",
    "ax.set_xlabel('Layers');\n",
    "ax.set_ylim(0);\n",
    "\n",
    "ax.legend(loc='best');\n"
   ]
  }
 ],
 "metadata": {
  "kernelspec": {
   "display_name": "venv (3.11.11)",
   "language": "python",
   "name": "python3"
  },
  "language_info": {
   "codemirror_mode": {
    "name": "ipython",
    "version": 3
   },
   "file_extension": ".py",
   "mimetype": "text/x-python",
   "name": "python",
   "nbconvert_exporter": "python",
   "pygments_lexer": "ipython3",
   "version": "3.11.11"
  }
 },
 "nbformat": 4,
 "nbformat_minor": 2
}
