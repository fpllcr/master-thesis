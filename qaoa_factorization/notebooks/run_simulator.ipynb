{
 "cells": [
  {
   "cell_type": "code",
   "execution_count": 1,
   "metadata": {},
   "outputs": [],
   "source": [
    "from numpy_qaoa_solver import NumpyQAOASolver"
   ]
  },
  {
   "cell_type": "code",
   "execution_count": 2,
   "metadata": {},
   "outputs": [],
   "source": [
    "solver = NumpyQAOASolver(15, 1)"
   ]
  },
  {
   "cell_type": "code",
   "execution_count": 4,
   "metadata": {},
   "outputs": [
    {
     "name": "stderr",
     "output_type": "stream",
     "text": [
      "100%|██████████| 10/10 [00:00<00:00,  0.03s/rep]\n"
     ]
    }
   ],
   "source": [
    "best, results = solver.run()"
   ]
  },
  {
   "cell_type": "code",
   "execution_count": 5,
   "metadata": {},
   "outputs": [
    {
     "data": {
      "text/plain": [
       "{'N': 15,\n",
       " 'nx': 1,\n",
       " 'ny': 2,\n",
       " 'layers': 1,\n",
       " 'gammas_0': [1.6172641223216873],\n",
       " 'betas_0': [0.074386514406909],\n",
       " 'gammas': [1.5845082217274937],\n",
       " 'betas': [0.9967404131078463],\n",
       " 'cost': 36.076612927193445,\n",
       " 'state': ['-0.044790153935345+0.127484356078815j',\n",
       "  '0.179954464389932+0.00819032471834777j',\n",
       "  '0.0764570525814866+0.00956548708634555j',\n",
       "  '0.357404479004021+0.0149301972828866j',\n",
       "  '-0.0535322328104322-0.0514374142845354j',\n",
       "  '0.469503390040099-0.223938069821336j',\n",
       "  '0.422199412115573+0.0231048672167594j',\n",
       "  '0.397802051017658-0.44974102366915j'],\n",
       " 'optimizer_steps': 70,\n",
       " 'optimizer_success': True,\n",
       " 'optimizer_message': 'Optimization terminated successfully.',\n",
       " 'rep': 4}"
      ]
     },
     "execution_count": 5,
     "metadata": {},
     "output_type": "execute_result"
    }
   ],
   "source": [
    "best"
   ]
  }
 ],
 "metadata": {
  "kernelspec": {
   "display_name": "venv",
   "language": "python",
   "name": "python3"
  },
  "language_info": {
   "codemirror_mode": {
    "name": "ipython",
    "version": 3
   },
   "file_extension": ".py",
   "mimetype": "text/x-python",
   "name": "python",
   "nbconvert_exporter": "python",
   "pygments_lexer": "ipython3",
   "version": "3.11.11"
  }
 },
 "nbformat": 4,
 "nbformat_minor": 2
}
