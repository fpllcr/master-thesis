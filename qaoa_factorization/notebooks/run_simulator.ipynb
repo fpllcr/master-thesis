{
 "cells": [
  {
   "cell_type": "code",
   "execution_count": 1,
   "metadata": {},
   "outputs": [],
   "source": [
    "import math\n",
    "\n",
    "from qaoa_solver import QAOASolver"
   ]
  },
  {
   "cell_type": "code",
   "execution_count": null,
   "metadata": {},
   "outputs": [],
   "source": [
    "solver = QAOASolver(217, 1, optimizer_method='BFGS')"
   ]
  },
  {
   "cell_type": "code",
   "execution_count": 6,
   "metadata": {},
   "outputs": [
    {
     "data": {
      "text/plain": [
       "3"
      ]
     },
     "execution_count": 6,
     "metadata": {},
     "output_type": "execute_result"
    }
   ],
   "source": [
    "solver.nx"
   ]
  },
  {
   "cell_type": "code",
   "execution_count": 7,
   "metadata": {},
   "outputs": [
    {
     "data": {
      "text/plain": [
       "4"
      ]
     },
     "execution_count": 7,
     "metadata": {},
     "output_type": "execute_result"
    }
   ],
   "source": [
    "solver.ny"
   ]
  },
  {
   "cell_type": "code",
   "execution_count": 5,
   "metadata": {},
   "outputs": [],
   "source": [
    "res = solver._single_run(2, [math.pi/3, math.pi/3], [math.pi/3, math.pi/3])"
   ]
  },
  {
   "cell_type": "code",
   "execution_count": 6,
   "metadata": {},
   "outputs": [
    {
     "data": {
      "text/plain": [
       "{'N': 15,\n",
       " 'nx': 1,\n",
       " 'ny': 2,\n",
       " 'layers': 2,\n",
       " 'initial_gammas': [1.0471975511965976, 1.0471975511965976],\n",
       " 'initial_betas': [1.0471975511965976, 1.0471975511965976],\n",
       " 'gammas': [1.0210670289508612, 1.0595838720361677],\n",
       " 'betas': [1.8905204048015531, 1.377685392177717],\n",
       " 'cost': 23.992329447357157,\n",
       " 'state': ['-0.00017981810660410574-0.08850074358116133j',\n",
       "  '0.1060431903159309-0.07457342441651542j',\n",
       "  '-0.1330534800750346+0.08144387324165196j',\n",
       "  '-0.08908144501728385-0.031742167635804425j',\n",
       "  '0.031648979380817954+0.06213614473147479j',\n",
       "  '-0.15107996985888006-0.6855379877503056j',\n",
       "  '-0.30125090753942824-0.536501630009019j',\n",
       "  '0.08745903055180072+0.24123969712345353j'],\n",
       " 'optimizer_steps': 23,\n",
       " 'optimizer_success': True,\n",
       " 'optimizer_message': 'Optimization terminated successfully.'}"
      ]
     },
     "execution_count": 6,
     "metadata": {},
     "output_type": "execute_result"
    }
   ],
   "source": [
    "res"
   ]
  }
 ],
 "metadata": {
  "kernelspec": {
   "display_name": "venv",
   "language": "python",
   "name": "python3"
  },
  "language_info": {
   "codemirror_mode": {
    "name": "ipython",
    "version": 3
   },
   "file_extension": ".py",
   "mimetype": "text/x-python",
   "name": "python",
   "nbconvert_exporter": "python",
   "pygments_lexer": "ipython3",
   "version": "3.11.11"
  }
 },
 "nbformat": 4,
 "nbformat_minor": 2
}
