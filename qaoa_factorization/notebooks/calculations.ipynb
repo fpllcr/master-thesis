{
 "cells": [
  {
   "cell_type": "code",
   "execution_count": 34,
   "id": "465ed89b",
   "metadata": {},
   "outputs": [],
   "source": [
    "import numpy as np"
   ]
  },
  {
   "cell_type": "code",
   "execution_count": 42,
   "id": "65032eb9",
   "metadata": {},
   "outputs": [],
   "source": [
    "I = np.array([[1,0],[0,1]], dtype=complex)\n",
    "X = np.array([[0,1],[1,0]], dtype=complex)\n",
    "\n",
    "zero = np.array([1,0], dtype=complex)\n",
    "one = np.array([0,1], dtype=complex)\n",
    "\n",
    "plus = (zero + one)/np.sqrt(2)\n",
    "minus = (zero - one)/np.sqrt(2)\n",
    "\n",
    "XX = np.kron(X, I) + np.kron(I, X)\n",
    "pp = np.kron(plus, plus)\n",
    "pm = np.kron(plus, minus)\n",
    "mp = np.kron(minus, plus)\n",
    "mm = np.kron(minus, minus)\n",
    "\n",
    "XXX = np.kron(np.kron(X, I), I) + np.kron(np.kron(I, X), I) + np.kron(np.kron(I, I), X)\n",
    "ppp = np.kron(pp, plus)\n",
    "pmp = np.kron(pm, plus)\n",
    "mpm = np.kron(mp, minus)\n",
    "mmm = np.kron(mm, minus)\n",
    "\n",
    "def expval(op, psi):\n",
    "    return np.vdot(psi, op @ psi).real"
   ]
  },
  {
   "cell_type": "code",
   "execution_count": 43,
   "id": "0bab1c2d",
   "metadata": {},
   "outputs": [
    {
     "name": "stdout",
     "output_type": "stream",
     "text": [
      "-1.9999999999999991\n",
      "0.0\n",
      "1.9999999999999991\n"
     ]
    }
   ],
   "source": [
    "print(expval(XX, mm))\n",
    "print(expval(XX, mp))\n",
    "print(expval(XX, pp))"
   ]
  },
  {
   "cell_type": "code",
   "execution_count": 44,
   "id": "8cfa7d24",
   "metadata": {},
   "outputs": [
    {
     "name": "stdout",
     "output_type": "stream",
     "text": [
      "-2.9999999999999982\n",
      "-0.9999999999999996\n",
      "0.9999999999999996\n",
      "2.9999999999999982\n"
     ]
    }
   ],
   "source": [
    "print(expval(XXX, mmm))\n",
    "print(expval(XXX, mpm))\n",
    "print(expval(XXX, pmp))\n",
    "print(expval(XXX, ppp))"
   ]
  }
 ],
 "metadata": {
  "kernelspec": {
   "display_name": "venv (3.11.11)",
   "language": "python",
   "name": "python3"
  },
  "language_info": {
   "codemirror_mode": {
    "name": "ipython",
    "version": 3
   },
   "file_extension": ".py",
   "mimetype": "text/x-python",
   "name": "python",
   "nbconvert_exporter": "python",
   "pygments_lexer": "ipython3",
   "version": "3.11.11"
  }
 },
 "nbformat": 4,
 "nbformat_minor": 5
}
