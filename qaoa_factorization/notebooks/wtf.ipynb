{
 "cells": [
  {
   "cell_type": "code",
   "execution_count": 1,
   "metadata": {},
   "outputs": [],
   "source": [
    "import json\n",
    "import os\n",
    "import warnings\n",
    "\n",
    "from matplotlib import pyplot as plt\n",
    "import pandas as pd\n",
    "import sympy as sp\n",
    "from sympy.physics.quantum import Dagger\n",
    "\n",
    "from hamiltonians import *\n",
    "from qaoa_solver import QAOASolver\n",
    "from utils import *\n",
    "\n",
    "warnings.simplefilter(action='ignore', category=FutureWarning)"
   ]
  },
  {
   "cell_type": "code",
   "execution_count": 2,
   "metadata": {},
   "outputs": [],
   "source": [
    "def get_setup(experiment):\n",
    "    return '_'.join(experiment.split('_')[2:])\n",
    "\n",
    "experiment_names = os.listdir('experiments')\n",
    "experiment_configs = []\n",
    "experiment_results = []\n",
    "\n",
    "for experiment in experiment_names:\n",
    "    try:\n",
    "        with open(f'experiments/{experiment}/{experiment}_conf.json', 'r') as f:\n",
    "            conf = json.load(f)\n",
    "            conf['experiment'] = experiment\n",
    "            conf['setup'] = get_setup(experiment)\n",
    "            experiment_configs.append(conf)\n",
    "        \n",
    "        result = pd.read_json(f'experiments/{experiment}/{experiment}_results.jsonl',lines=True)\n",
    "        result['experiment'] = experiment\n",
    "        experiment_results.append(result)\n",
    "    except ValueError:\n",
    "        print(f'Error reading experiment {experiment}')\n",
    "\n",
    "experiment_configs = pd.DataFrame(experiment_configs)\n",
    "experiment_results = pd.concat(experiment_results)\n",
    "\n",
    "experiment_results_agg = (\n",
    "    experiment_results\n",
    "        .groupby('experiment')\n",
    "        .agg({\n",
    "            'iter': 'count',\n",
    "            'steps': ['mean', 'median', 'std'],\n",
    "            'cost': ['mean', 'median', 'std'], \n",
    "            'fidelity': ['mean', 'median', 'std', 'max', 'min']\n",
    "        })\n",
    "    )\n",
    "\n",
    "experiment_results_agg.columns = ['_'.join(map(str, col)) for col in experiment_results_agg.columns.to_flat_index()]\n",
    "\n",
    "experiment_results_agg['infidelity_mean'] = 1 - experiment_results_agg['fidelity_mean']\n",
    "experiment_results_agg['infidelity_median'] = 1 - experiment_results_agg['fidelity_median']\n",
    "experiment_results_agg['infidelity_min'] = 1 - experiment_results_agg['fidelity_max']\n",
    "experiment_results_agg['infidelity_max'] = 1 - experiment_results_agg['fidelity_min']\n",
    "\n",
    "experiments_df = pd.merge(experiment_configs, experiment_results_agg, how='inner', on='experiment')"
   ]
  },
  {
   "cell_type": "code",
   "execution_count": 3,
   "metadata": {},
   "outputs": [],
   "source": [
    "solver = QAOASolver(N=35, p=4,\n",
    "                    problem_hamiltonian_gen=default_problem_H,\n",
    "                    mixer_hamiltonian_gen=default_mixer_H,\n",
    "                    cost_hamiltonian_gen=abs_cost_H)"
   ]
  },
  {
   "cell_type": "code",
   "execution_count": 4,
   "metadata": {},
   "outputs": [
    {
     "data": {
      "text/plain": [
       "2"
      ]
     },
     "execution_count": 4,
     "metadata": {},
     "output_type": "execute_result"
    }
   ],
   "source": [
    "solver.nx"
   ]
  },
  {
   "cell_type": "code",
   "execution_count": 5,
   "metadata": {},
   "outputs": [
    {
     "data": {
      "text/plain": [
       "3"
      ]
     },
     "execution_count": 5,
     "metadata": {},
     "output_type": "execute_result"
    }
   ],
   "source": [
    "solver.ny"
   ]
  },
  {
   "cell_type": "code",
   "execution_count": 6,
   "metadata": {},
   "outputs": [
    {
     "data": {
      "text/plain": [
       "{'01110', '11010'}"
      ]
     },
     "execution_count": 6,
     "metadata": {},
     "output_type": "execute_result"
    }
   ],
   "source": [
    "solver.solution"
   ]
  },
  {
   "cell_type": "code",
   "execution_count": 5,
   "metadata": {},
   "outputs": [],
   "source": [
    "experiment = 'N21_p4_Hp=simp_Hc=abs'\n",
    "df = experiment_results[experiment_results['experiment']==experiment]"
   ]
  },
  {
   "cell_type": "code",
   "execution_count": 7,
   "metadata": {},
   "outputs": [
    {
     "data": {
      "text/plain": [
       "N                                                             21\n",
       "nx                                                             1\n",
       "ny                                                             2\n",
       "iter                                                          95\n",
       "layers                                                         4\n",
       "gammas_init                  [2.9, 0.9, 0.9, 0.6000000000000001]\n",
       "betas_init     [0.7000000000000001, 2.6, 0.1, 0.3000000000000...\n",
       "gammas         [3.040113209341051, 0.8743817780444371, 0.9778...\n",
       "betas          [1.539022914605795, 3.891350398663054, 0.90491...\n",
       "cost                                                    6.048602\n",
       "steps                                                        923\n",
       "fidelity                                                0.986683\n",
       "state          [-0.00834276421912622+0.00810992597439381j, 0....\n",
       "experiment                                 N21_p4_Hp=simp_Hc=abs\n",
       "Name: 95, dtype: object"
      ]
     },
     "execution_count": 7,
     "metadata": {},
     "output_type": "execute_result"
    }
   ],
   "source": [
    "df.iloc[95,]"
   ]
  },
  {
   "cell_type": "code",
   "execution_count": 9,
   "metadata": {},
   "outputs": [],
   "source": [
    "state = df.iloc[2,]['state']"
   ]
  },
  {
   "cell_type": "code",
   "execution_count": 10,
   "metadata": {},
   "outputs": [],
   "source": [
    "solver = QAOASolver(N=15, p=4,\n",
    "                    problem_hamiltonian_gen=simplified_problem_H,\n",
    "                    mixer_hamiltonian_gen=default_mixer_H,\n",
    "                    cost_hamiltonian_gen=abs_cost_H)"
   ]
  },
  {
   "cell_type": "code",
   "execution_count": 11,
   "metadata": {},
   "outputs": [
    {
     "data": {
      "text/plain": [
       "'101'"
      ]
     },
     "execution_count": 11,
     "metadata": {},
     "output_type": "execute_result"
    }
   ],
   "source": [
    "solver.solution"
   ]
  },
  {
   "cell_type": "code",
   "execution_count": 12,
   "metadata": {},
   "outputs": [],
   "source": [
    "psi = to_polar(sp.Matrix(state))"
   ]
  },
  {
   "cell_type": "code",
   "execution_count": 13,
   "metadata": {},
   "outputs": [],
   "source": [
    "Hc = sp.Matrix(solver.Hc.matrix())"
   ]
  },
  {
   "cell_type": "code",
   "execution_count": 14,
   "metadata": {},
   "outputs": [
    {
     "data": {
      "text/latex": [
       "$\\displaystyle \\left[\\begin{matrix}0.0753842291280339 e^{0.469755684196106 i}\\\\0.103631521812077 e^{2.06015680939675 i}\\\\0.010261989185542 e^{- 0.16921289632257 i}\\\\0.0520848975030124 e^{- 0.4565578165909 i}\\\\0.0980276389387262 e^{- 0.0406583291083757 i}\\\\0.171103276823891 e^{- 2.44459161732031 i}\\\\0.0125897187191565 e^{0.467124509042339 i}\\\\0.970420182375931 e^{- 2.35322116406668 i}\\end{matrix}\\right]$"
      ],
      "text/plain": [
       "Matrix([\n",
       "[  0.0753842291280339*exp(0.469755684196106*I)],\n",
       "[    0.103631521812077*exp(2.06015680939675*I)],\n",
       "[   0.010261989185542*exp(-0.16921289632257*I)],\n",
       "[   0.0520848975030124*exp(-0.4565578165909*I)],\n",
       "[0.0980276389387262*exp(-0.0406583291083757*I)],\n",
       "[   0.171103276823891*exp(-2.44459161732031*I)],\n",
       "[  0.0125897187191565*exp(0.467124509042339*I)],\n",
       "[   0.970420182375931*exp(-2.35322116406668*I)]])"
      ]
     },
     "execution_count": 14,
     "metadata": {},
     "output_type": "execute_result"
    }
   ],
   "source": [
    "psi"
   ]
  },
  {
   "cell_type": "code",
   "execution_count": 15,
   "metadata": {},
   "outputs": [
    {
     "data": {
      "text/latex": [
       "$\\displaystyle \\left[\\begin{matrix}20.0 & 0 & 0 & 0 & 0 & 0 & 0 & 0\\\\0 & 8.0 & 0 & 0 & 0 & 0 & 0 & 0\\\\0 & 0 & 14.0 & 0 & 0 & 0 & 0 & 0\\\\0 & 0 & 0 & 2.0 & 0 & 0 & 0 & 0\\\\0 & 0 & 0 & 0 & 6.0 & 0 & 0 & 0\\\\0 & 0 & 0 & 0 & 0 & 2.0 & 0 & 0\\\\0 & 0 & 0 & 0 & 0 & 0 & 4.0 & 0\\\\0 & 0 & 0 & 0 & 0 & 0 & 0 & 0\\end{matrix}\\right]$"
      ],
      "text/plain": [
       "Matrix([\n",
       "[20.0,   0,    0,   0,   0,   0,   0, 0],\n",
       "[   0, 8.0,    0,   0,   0,   0,   0, 0],\n",
       "[   0,   0, 14.0,   0,   0,   0,   0, 0],\n",
       "[   0,   0,    0, 2.0,   0,   0,   0, 0],\n",
       "[   0,   0,    0,   0, 6.0,   0,   0, 0],\n",
       "[   0,   0,    0,   0,   0, 2.0,   0, 0],\n",
       "[   0,   0,    0,   0,   0,   0, 4.0, 0],\n",
       "[   0,   0,    0,   0,   0,   0,   0, 0]])"
      ]
     },
     "execution_count": 15,
     "metadata": {},
     "output_type": "execute_result"
    }
   ],
   "source": [
    "Hc"
   ]
  },
  {
   "cell_type": "code",
   "execution_count": 16,
   "metadata": {},
   "outputs": [
    {
     "data": {
      "text/latex": [
       "$\\displaystyle \\left[\\begin{matrix}0.323314744258535\\end{matrix}\\right]$"
      ],
      "text/plain": [
       "Matrix([[0.323314744258535]])"
      ]
     },
     "execution_count": 16,
     "metadata": {},
     "output_type": "execute_result"
    }
   ],
   "source": [
    "Dagger(psi) * abs(Hc) * psi"
   ]
  },
  {
   "cell_type": "code",
   "execution_count": 20,
   "metadata": {},
   "outputs": [
    {
     "data": {
      "text/plain": [
       "5"
      ]
     },
     "execution_count": 20,
     "metadata": {},
     "output_type": "execute_result"
    }
   ],
   "source": [
    "int(solver.solution,2)"
   ]
  },
  {
   "cell_type": "code",
   "execution_count": 22,
   "metadata": {},
   "outputs": [
    {
     "data": {
      "text/latex": [
       "$\\displaystyle 0.171103276823891 e^{- 2.44459161732031 i}$"
      ],
      "text/plain": [
       "0.171103276823891*exp(-2.44459161732031*I)"
      ]
     },
     "execution_count": 22,
     "metadata": {},
     "output_type": "execute_result"
    }
   ],
   "source": [
    "psi[5]"
   ]
  },
  {
   "cell_type": "code",
   "execution_count": 23,
   "metadata": {},
   "outputs": [
    {
     "data": {
      "text/plain": [
       "0.029276331339873108"
      ]
     },
     "execution_count": 23,
     "metadata": {},
     "output_type": "execute_result"
    }
   ],
   "source": [
    "get_population(psi, solver.solution)"
   ]
  },
  {
   "cell_type": "code",
   "execution_count": 26,
   "metadata": {},
   "outputs": [
    {
     "data": {
      "text/plain": [
       "np.float64(0.9866831840987481)"
      ]
     },
     "execution_count": 26,
     "metadata": {},
     "output_type": "execute_result"
    }
   ],
   "source": [
    "df.iloc[95,]['fidelity']"
   ]
  }
 ],
 "metadata": {
  "kernelspec": {
   "display_name": "venv",
   "language": "python",
   "name": "python3"
  },
  "language_info": {
   "codemirror_mode": {
    "name": "ipython",
    "version": 3
   },
   "file_extension": ".py",
   "mimetype": "text/x-python",
   "name": "python",
   "nbconvert_exporter": "python",
   "pygments_lexer": "ipython3",
   "version": "3.11.9"
  }
 },
 "nbformat": 4,
 "nbformat_minor": 2
}
